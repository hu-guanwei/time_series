{
 "cells": [
  {
   "cell_type": "code",
   "execution_count": 9,
   "id": "209c4dbb",
   "metadata": {
    "scrolled": true
   },
   "outputs": [],
   "source": [
    "import tensorflow as tf\n",
    "from tensorflow.keras.layers import SimpleRNN"
   ]
  },
  {
   "cell_type": "code",
   "execution_count": 10,
   "id": "d381e4f3",
   "metadata": {},
   "outputs": [],
   "source": [
    "RNN = SimpleRNN(units=10, return_sequences=False)"
   ]
  },
  {
   "cell_type": "code",
   "execution_count": 11,
   "id": "172b2120",
   "metadata": {},
   "outputs": [],
   "source": [
    "# batch size = 2\n",
    "\n",
    "X = tf.constant(\n",
    "[\n",
    "    # instance 1\n",
    "    [[1, 2, 3],      # x0\n",
    "     [4, 5, 6]],     # x1\n",
    "    \n",
    "    # instance 2\n",
    "    [[7, 8, 9],      # x0\n",
    "     [10, 11, 12]]   # x1\n",
    "], \n",
    "    dtype=float\n",
    ")"
   ]
  },
  {
   "cell_type": "code",
   "execution_count": 12,
   "id": "4ab21dd7",
   "metadata": {},
   "outputs": [
    {
     "data": {
      "text/plain": [
       "TensorShape([2, 2, 3])"
      ]
     },
     "execution_count": 12,
     "metadata": {},
     "output_type": "execute_result"
    }
   ],
   "source": [
    "X.shape\n",
    "# dim 0: batch\n",
    "# dim 1: sequence length\n",
    "# dim 2: input vector dimension"
   ]
  },
  {
   "cell_type": "code",
   "execution_count": 13,
   "id": "512809c1",
   "metadata": {},
   "outputs": [
    {
     "data": {
      "text/plain": [
       "<tf.Tensor: shape=(2, 10), dtype=float32, numpy=\n",
       "array([[ 0.9999074 ,  0.9917896 ,  1.        , -0.70850194, -0.99999875,\n",
       "        -0.9646534 ,  0.96139103, -0.9961874 , -0.9964716 , -0.9971624 ],\n",
       "       [ 1.        ,  0.9998862 ,  1.        , -0.44761044, -1.        ,\n",
       "        -0.9986545 ,  0.99997705, -0.9999952 , -1.        , -0.9999785 ]],\n",
       "      dtype=float32)>"
      ]
     },
     "execution_count": 13,
     "metadata": {},
     "output_type": "execute_result"
    }
   ],
   "source": [
    "RNN(X)"
   ]
  },
  {
   "cell_type": "code",
   "execution_count": 14,
   "id": "aba5865a",
   "metadata": {},
   "outputs": [
    {
     "data": {
      "text/plain": [
       "TensorShape([2, 10])"
      ]
     },
     "execution_count": 14,
     "metadata": {},
     "output_type": "execute_result"
    }
   ],
   "source": [
    "RNN(X).shape\n",
    "# dim 0: batch\n",
    "# dim 1: RNN output vector dimension"
   ]
  },
  {
   "cell_type": "code",
   "execution_count": 15,
   "id": "9ec2af5f",
   "metadata": {},
   "outputs": [
    {
     "data": {
      "text/plain": [
       "TensorShape([2, 2, 10])"
      ]
     },
     "execution_count": 15,
     "metadata": {},
     "output_type": "execute_result"
    }
   ],
   "source": [
    "RNN = SimpleRNN(units=10, return_sequences=True)\n",
    "RNN(X).shape \n",
    "# dim 0: batch\n",
    "# dim 1: sequence length\n",
    "# dim 2: RNN output vector dimension"
   ]
  },
  {
   "cell_type": "code",
   "execution_count": null,
   "id": "5ce0d512",
   "metadata": {},
   "outputs": [],
   "source": []
  }
 ],
 "metadata": {
  "kernelspec": {
   "display_name": "Python 3 (ipykernel)",
   "language": "python",
   "name": "python3"
  },
  "language_info": {
   "codemirror_mode": {
    "name": "ipython",
    "version": 3
   },
   "file_extension": ".py",
   "mimetype": "text/x-python",
   "name": "python",
   "nbconvert_exporter": "python",
   "pygments_lexer": "ipython3",
   "version": "3.9.13"
  }
 },
 "nbformat": 4,
 "nbformat_minor": 5
}
